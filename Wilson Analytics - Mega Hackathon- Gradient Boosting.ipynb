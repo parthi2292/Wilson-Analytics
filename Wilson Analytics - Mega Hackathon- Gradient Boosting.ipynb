{
 "cells": [
  {
   "cell_type": "markdown",
   "id": "d4a40c65",
   "metadata": {},
   "source": [
    "# Problem Statement"
   ]
  },
  {
   "cell_type": "markdown",
   "id": "0b76885c",
   "metadata": {},
   "source": [
    "# All bank branches across India provide MUDRA loans. Such loans have created the low-cost credit concept for micro and small businesses. One of the leading financial institutions in India wants to leverage Machine Learning techniques to determine the client’s loan repayment abilities and take proactive steps to reduce the magnitude of exposure to default. \n",
    "\n"
   ]
  },
  {
   "cell_type": "markdown",
   "id": "860b53fe",
   "metadata": {},
   "source": [
    "# Goal: The goal of the problem is to predict whether a client will default on the loan payment or not, given the recent data of all the loan transactions. This can help the institution to distinguish future applicants who might default. For each ID in the Test Dataset, you must predict the “Default” level."
   ]
  },
  {
   "cell_type": "code",
   "execution_count": 208,
   "id": "cdd53dc6",
   "metadata": {},
   "outputs": [],
   "source": [
    "import warnings\n",
    "warnings.filterwarnings('ignore')\n",
    "import numpy as np\n",
    "import pandas as pd\n",
    "import seaborn as sns\n",
    "import matplotlib.pyplot as plt\n",
    "from sklearn.metrics import classification_report, accuracy_score, confusion_matrix"
   ]
  },
  {
   "cell_type": "code",
   "execution_count": 209,
   "id": "4f3a2b1a",
   "metadata": {},
   "outputs": [],
   "source": [
    "train_data  = pd.read_csv('D:/Wilson Analytics -Mega Hackathon_Dec2022/training_data.csv')"
   ]
  },
  {
   "cell_type": "code",
   "execution_count": 210,
   "id": "293afca9",
   "metadata": {},
   "outputs": [],
   "source": [
    "# train_data.head()"
   ]
  },
  {
   "cell_type": "code",
   "execution_count": 211,
   "id": "e30a1bfc",
   "metadata": {},
   "outputs": [],
   "source": [
    "# train_data.tail()"
   ]
  },
  {
   "cell_type": "code",
   "execution_count": 212,
   "id": "83a13e05",
   "metadata": {},
   "outputs": [
    {
     "data": {
      "text/plain": [
       "Index(['ID', 'Date_Of_Disbursement', 'Business', 'Jobs_Reatained',\n",
       "       'Jobs_Created ', 'Year_Of_Commitment ', 'Guaranteed_Approved _Loan',\n",
       "       'Borrower_Name ', 'Low_Documentation_Loan', 'Demography',\n",
       "       'State_Of_Bank', 'ChargedOff_Amount ', 'Borrower_City',\n",
       "       'Borrower_State', 'Gross_Amount_Balance', 'Count_Employees',\n",
       "       'Classification_Code ', 'Loan_Approved_Gross',\n",
       "       'Gross_Amount_Disbursed  ', 'Loan_Term', 'Commitment_Date',\n",
       "       'Primary_Loan_Digit', 'Code_Franchise', 'Name_Of_Bank',\n",
       "       'Revolving_Credit_Line', 'Default'],\n",
       "      dtype='object')"
      ]
     },
     "execution_count": 212,
     "metadata": {},
     "output_type": "execute_result"
    }
   ],
   "source": [
    "train_data.columns"
   ]
  },
  {
   "cell_type": "code",
   "execution_count": 213,
   "id": "44e0e623",
   "metadata": {},
   "outputs": [],
   "source": [
    "# train_data['Primary_Loan_Digit'].value_counts()"
   ]
  },
  {
   "cell_type": "code",
   "execution_count": 214,
   "id": "db8b5432",
   "metadata": {},
   "outputs": [],
   "source": [
    "train_data = train_data.drop(['ID', 'Date_Of_Disbursement', \n",
    "       'Year_Of_Commitment ', 'Borrower_Name ', 'State_Of_Bank', 'ChargedOff_Amount ', 'Borrower_City',\n",
    "       'Borrower_State', 'Gross_Amount_Balance', 'Classification_Code ', 'Commitment_Date',\n",
    "       'Primary_Loan_Digit', 'Code_Franchise', 'Name_Of_Bank'],axis=1)"
   ]
  },
  {
   "cell_type": "code",
   "execution_count": null,
   "id": "808f1b41",
   "metadata": {},
   "outputs": [],
   "source": []
  },
  {
   "cell_type": "code",
   "execution_count": 215,
   "id": "26896033",
   "metadata": {},
   "outputs": [
    {
     "data": {
      "text/plain": [
       "(105000, 12)"
      ]
     },
     "execution_count": 215,
     "metadata": {},
     "output_type": "execute_result"
    }
   ],
   "source": [
    "train_data.shape"
   ]
  },
  {
   "cell_type": "code",
   "execution_count": 216,
   "id": "b36aebcd",
   "metadata": {},
   "outputs": [
    {
     "data": {
      "text/plain": [
       "Business                      15\n",
       "Jobs_Reatained                 0\n",
       "Jobs_Created                   0\n",
       "Guaranteed_Approved _Loan      0\n",
       "Low_Documentation_Loan       367\n",
       "Demography                     0\n",
       "Count_Employees                0\n",
       "Loan_Approved_Gross            0\n",
       "Gross_Amount_Disbursed         0\n",
       "Loan_Term                      0\n",
       "Revolving_Credit_Line        491\n",
       "Default                        0\n",
       "dtype: int64"
      ]
     },
     "execution_count": 216,
     "metadata": {},
     "output_type": "execute_result"
    }
   ],
   "source": [
    "train_data.isnull().sum()"
   ]
  },
  {
   "cell_type": "code",
   "execution_count": 217,
   "id": "379f5bdc",
   "metadata": {},
   "outputs": [],
   "source": [
    "train_data['Business'] = train_data['Business'].fillna(train_data['Business'].mode()[0],axis=0)\n",
    "train_data['Low_Documentation_Loan'] = train_data['Low_Documentation_Loan'].fillna(train_data['Low_Documentation_Loan'].mode()[0],axis=0)\n",
    "train_data['Revolving_Credit_Line'] = train_data['Revolving_Credit_Line'].fillna(train_data['Revolving_Credit_Line'].mode()[0],axis=0)"
   ]
  },
  {
   "cell_type": "code",
   "execution_count": 218,
   "id": "2e481207",
   "metadata": {},
   "outputs": [],
   "source": [
    "train_data['Loan_Term'] = np.where(train_data['Loan_Term'] == 0, train_data['Loan_Term'].mode()[0],train_data['Loan_Term'])"
   ]
  },
  {
   "cell_type": "code",
   "execution_count": 219,
   "id": "e3ee3878",
   "metadata": {},
   "outputs": [
    {
     "data": {
      "text/plain": [
       "126"
      ]
     },
     "execution_count": 219,
     "metadata": {},
     "output_type": "execute_result"
    }
   ],
   "source": [
    "train_data['Loan_Term'].mode()[0]"
   ]
  },
  {
   "cell_type": "code",
   "execution_count": 220,
   "id": "3047627f",
   "metadata": {},
   "outputs": [],
   "source": [
    "# train_data.head(20)"
   ]
  },
  {
   "cell_type": "code",
   "execution_count": 221,
   "id": "1f1aa8e7",
   "metadata": {},
   "outputs": [
    {
     "data": {
      "text/plain": [
       "Business                     0\n",
       "Jobs_Reatained               0\n",
       "Jobs_Created                 0\n",
       "Guaranteed_Approved _Loan    0\n",
       "Low_Documentation_Loan       0\n",
       "Demography                   0\n",
       "Count_Employees              0\n",
       "Loan_Approved_Gross          0\n",
       "Gross_Amount_Disbursed       0\n",
       "Loan_Term                    0\n",
       "Revolving_Credit_Line        0\n",
       "Default                      0\n",
       "dtype: int64"
      ]
     },
     "execution_count": 221,
     "metadata": {},
     "output_type": "execute_result"
    }
   ],
   "source": [
    "train_data.isnull().sum()"
   ]
  },
  {
   "cell_type": "code",
   "execution_count": 222,
   "id": "e73c7865",
   "metadata": {},
   "outputs": [],
   "source": [
    "# train_data.dropna(inplace=True)"
   ]
  },
  {
   "cell_type": "code",
   "execution_count": 223,
   "id": "740819a0",
   "metadata": {},
   "outputs": [
    {
     "name": "stdout",
     "output_type": "stream",
     "text": [
      "<class 'pandas.core.frame.DataFrame'>\n",
      "RangeIndex: 105000 entries, 0 to 104999\n",
      "Data columns (total 12 columns):\n",
      " #   Column                     Non-Null Count   Dtype \n",
      "---  ------                     --------------   ----- \n",
      " 0   Business                   105000 non-null  object\n",
      " 1   Jobs_Reatained             105000 non-null  int64 \n",
      " 2   Jobs_Created               105000 non-null  int64 \n",
      " 3   Guaranteed_Approved _Loan  105000 non-null  object\n",
      " 4   Low_Documentation_Loan     105000 non-null  object\n",
      " 5   Demography                 105000 non-null  object\n",
      " 6   Count_Employees            105000 non-null  int64 \n",
      " 7   Loan_Approved_Gross        105000 non-null  object\n",
      " 8   Gross_Amount_Disbursed     105000 non-null  object\n",
      " 9   Loan_Term                  105000 non-null  int64 \n",
      " 10  Revolving_Credit_Line      105000 non-null  object\n",
      " 11  Default                    105000 non-null  int64 \n",
      "dtypes: int64(5), object(7)\n",
      "memory usage: 9.6+ MB\n"
     ]
    }
   ],
   "source": [
    "train_data.info()"
   ]
  },
  {
   "cell_type": "code",
   "execution_count": 224,
   "id": "52388462",
   "metadata": {},
   "outputs": [
    {
     "data": {
      "text/html": [
       "<div>\n",
       "<style scoped>\n",
       "    .dataframe tbody tr th:only-of-type {\n",
       "        vertical-align: middle;\n",
       "    }\n",
       "\n",
       "    .dataframe tbody tr th {\n",
       "        vertical-align: top;\n",
       "    }\n",
       "\n",
       "    .dataframe thead th {\n",
       "        text-align: right;\n",
       "    }\n",
       "</style>\n",
       "<table border=\"1\" class=\"dataframe\">\n",
       "  <thead>\n",
       "    <tr style=\"text-align: right;\">\n",
       "      <th></th>\n",
       "      <th>Jobs_Reatained</th>\n",
       "      <th>Jobs_Created</th>\n",
       "      <th>Count_Employees</th>\n",
       "      <th>Loan_Term</th>\n",
       "      <th>Default</th>\n",
       "    </tr>\n",
       "  </thead>\n",
       "  <tbody>\n",
       "    <tr>\n",
       "      <th>0</th>\n",
       "      <td>0</td>\n",
       "      <td>0</td>\n",
       "      <td>38</td>\n",
       "      <td>126</td>\n",
       "      <td>0</td>\n",
       "    </tr>\n",
       "    <tr>\n",
       "      <th>1</th>\n",
       "      <td>0</td>\n",
       "      <td>6</td>\n",
       "      <td>6</td>\n",
       "      <td>123</td>\n",
       "      <td>1</td>\n",
       "    </tr>\n",
       "    <tr>\n",
       "      <th>2</th>\n",
       "      <td>4</td>\n",
       "      <td>0</td>\n",
       "      <td>4</td>\n",
       "      <td>90</td>\n",
       "      <td>0</td>\n",
       "    </tr>\n",
       "    <tr>\n",
       "      <th>3</th>\n",
       "      <td>9</td>\n",
       "      <td>1</td>\n",
       "      <td>7</td>\n",
       "      <td>126</td>\n",
       "      <td>0</td>\n",
       "    </tr>\n",
       "    <tr>\n",
       "      <th>4</th>\n",
       "      <td>4</td>\n",
       "      <td>0</td>\n",
       "      <td>4</td>\n",
       "      <td>104</td>\n",
       "      <td>1</td>\n",
       "    </tr>\n",
       "  </tbody>\n",
       "</table>\n",
       "</div>"
      ],
      "text/plain": [
       "   Jobs_Reatained  Jobs_Created   Count_Employees  Loan_Term  Default\n",
       "0               0              0               38        126        0\n",
       "1               0              6                6        123        1\n",
       "2               4              0                4         90        0\n",
       "3               9              1                7        126        0\n",
       "4               4              0                4        104        1"
      ]
     },
     "execution_count": 224,
     "metadata": {},
     "output_type": "execute_result"
    }
   ],
   "source": [
    "df_num = train_data.select_dtypes(include='int64')\n",
    "df_num.head()"
   ]
  },
  {
   "cell_type": "code",
   "execution_count": 225,
   "id": "839197a9",
   "metadata": {},
   "outputs": [
    {
     "data": {
      "text/html": [
       "<div>\n",
       "<style scoped>\n",
       "    .dataframe tbody tr th:only-of-type {\n",
       "        vertical-align: middle;\n",
       "    }\n",
       "\n",
       "    .dataframe tbody tr th {\n",
       "        vertical-align: top;\n",
       "    }\n",
       "\n",
       "    .dataframe thead th {\n",
       "        text-align: right;\n",
       "    }\n",
       "</style>\n",
       "<table border=\"1\" class=\"dataframe\">\n",
       "  <thead>\n",
       "    <tr style=\"text-align: right;\">\n",
       "      <th></th>\n",
       "      <th>Business</th>\n",
       "      <th>Guaranteed_Approved _Loan</th>\n",
       "      <th>Low_Documentation_Loan</th>\n",
       "      <th>Demography</th>\n",
       "      <th>Loan_Approved_Gross</th>\n",
       "      <th>Gross_Amount_Disbursed</th>\n",
       "      <th>Revolving_Credit_Line</th>\n",
       "    </tr>\n",
       "  </thead>\n",
       "  <tbody>\n",
       "    <tr>\n",
       "      <th>0</th>\n",
       "      <td>Existing</td>\n",
       "      <td>Rs.33121600.0</td>\n",
       "      <td>No</td>\n",
       "      <td>Undefined</td>\n",
       "      <td>Rs.40640000.0</td>\n",
       "      <td>Rs.40640000.0</td>\n",
       "      <td>No</td>\n",
       "    </tr>\n",
       "    <tr>\n",
       "      <th>1</th>\n",
       "      <td>New</td>\n",
       "      <td>Rs.32735520.0</td>\n",
       "      <td>No</td>\n",
       "      <td>Urban</td>\n",
       "      <td>Rs.43647360.0</td>\n",
       "      <td>Rs.43647360.0</td>\n",
       "      <td>0</td>\n",
       "    </tr>\n",
       "    <tr>\n",
       "      <th>2</th>\n",
       "      <td>Existing</td>\n",
       "      <td>Rs.1422400.0</td>\n",
       "      <td>No</td>\n",
       "      <td>Urban</td>\n",
       "      <td>Rs.2844800.0</td>\n",
       "      <td>Rs.5961400.32</td>\n",
       "      <td>Yes</td>\n",
       "    </tr>\n",
       "    <tr>\n",
       "      <th>3</th>\n",
       "      <td>New</td>\n",
       "      <td>Rs.2032000.0</td>\n",
       "      <td>No</td>\n",
       "      <td>Urban</td>\n",
       "      <td>Rs.4064000.0</td>\n",
       "      <td>Rs.4064000.0</td>\n",
       "      <td>Yes</td>\n",
       "    </tr>\n",
       "    <tr>\n",
       "      <th>4</th>\n",
       "      <td>Existing</td>\n",
       "      <td>Rs.22981920.0</td>\n",
       "      <td>No</td>\n",
       "      <td>Urban</td>\n",
       "      <td>Rs.30642560.0</td>\n",
       "      <td>Rs.30642560.0</td>\n",
       "      <td>0</td>\n",
       "    </tr>\n",
       "  </tbody>\n",
       "</table>\n",
       "</div>"
      ],
      "text/plain": [
       "   Business Guaranteed_Approved _Loan Low_Documentation_Loan Demography  \\\n",
       "0  Existing             Rs.33121600.0                     No  Undefined   \n",
       "1       New             Rs.32735520.0                     No      Urban   \n",
       "2  Existing              Rs.1422400.0                     No      Urban   \n",
       "3       New              Rs.2032000.0                     No      Urban   \n",
       "4  Existing             Rs.22981920.0                     No      Urban   \n",
       "\n",
       "  Loan_Approved_Gross Gross_Amount_Disbursed   Revolving_Credit_Line  \n",
       "0       Rs.40640000.0            Rs.40640000.0                    No  \n",
       "1       Rs.43647360.0            Rs.43647360.0                     0  \n",
       "2        Rs.2844800.0            Rs.5961400.32                   Yes  \n",
       "3        Rs.4064000.0             Rs.4064000.0                   Yes  \n",
       "4       Rs.30642560.0            Rs.30642560.0                     0  "
      ]
     },
     "execution_count": 225,
     "metadata": {},
     "output_type": "execute_result"
    }
   ],
   "source": [
    "df_cat = train_data.select_dtypes(include='object')\n",
    "df_cat.head()"
   ]
  },
  {
   "cell_type": "code",
   "execution_count": 226,
   "id": "5f47c007",
   "metadata": {},
   "outputs": [
    {
     "data": {
      "text/plain": [
       "Index(['Business', 'Guaranteed_Approved _Loan', 'Low_Documentation_Loan',\n",
       "       'Demography', 'Loan_Approved_Gross', 'Gross_Amount_Disbursed  ',\n",
       "       'Revolving_Credit_Line'],\n",
       "      dtype='object')"
      ]
     },
     "execution_count": 226,
     "metadata": {},
     "output_type": "execute_result"
    }
   ],
   "source": [
    "df_cat.columns"
   ]
  },
  {
   "cell_type": "code",
   "execution_count": 227,
   "id": "e29a1033",
   "metadata": {},
   "outputs": [],
   "source": [
    "df_num['Guaranteed_Approved _Loan'] = df_cat['Guaranteed_Approved _Loan'].str.replace('Rs.','').astype('float')\n",
    "#df_num['ChargedOff_Amount '] = df_cat['ChargedOff_Amount '].str.replace(',','').str.replace('Rs.','').astype('float')\n",
    "#df_num['Gross_Amount_Balance'] = df_cat['Gross_Amount_Balance'].str.replace(',','').str.replace('Rs.','').astype('float')\n",
    "df_num['Loan_Approved_Gross'] = df_cat['Loan_Approved_Gross'].str.replace(',','').str.replace('Rs.','').astype('float')\n",
    "df_num['Gross_Amount_Disbursed  '] = df_cat['Gross_Amount_Disbursed  '].str.replace(',','').str.replace('Rs.','').astype('float')"
   ]
  },
  {
   "cell_type": "code",
   "execution_count": 228,
   "id": "32e04a09",
   "metadata": {},
   "outputs": [],
   "source": [
    "# df_num.head()"
   ]
  },
  {
   "cell_type": "code",
   "execution_count": 229,
   "id": "e1a8c2f5",
   "metadata": {},
   "outputs": [],
   "source": [
    "df_cat = df_cat.drop(['Guaranteed_Approved _Loan','Loan_Approved_Gross','Gross_Amount_Disbursed  '],axis=1)\n",
    "#df_cat = df_cat.drop(['Gross_Amount_Disbursed  '],axis=1)"
   ]
  },
  {
   "cell_type": "code",
   "execution_count": 230,
   "id": "d4574145",
   "metadata": {},
   "outputs": [
    {
     "data": {
      "text/html": [
       "<div>\n",
       "<style scoped>\n",
       "    .dataframe tbody tr th:only-of-type {\n",
       "        vertical-align: middle;\n",
       "    }\n",
       "\n",
       "    .dataframe tbody tr th {\n",
       "        vertical-align: top;\n",
       "    }\n",
       "\n",
       "    .dataframe thead th {\n",
       "        text-align: right;\n",
       "    }\n",
       "</style>\n",
       "<table border=\"1\" class=\"dataframe\">\n",
       "  <thead>\n",
       "    <tr style=\"text-align: right;\">\n",
       "      <th></th>\n",
       "      <th>Business</th>\n",
       "      <th>Low_Documentation_Loan</th>\n",
       "      <th>Demography</th>\n",
       "      <th>Revolving_Credit_Line</th>\n",
       "    </tr>\n",
       "  </thead>\n",
       "  <tbody>\n",
       "    <tr>\n",
       "      <th>0</th>\n",
       "      <td>Existing</td>\n",
       "      <td>No</td>\n",
       "      <td>Undefined</td>\n",
       "      <td>No</td>\n",
       "    </tr>\n",
       "    <tr>\n",
       "      <th>1</th>\n",
       "      <td>New</td>\n",
       "      <td>No</td>\n",
       "      <td>Urban</td>\n",
       "      <td>0</td>\n",
       "    </tr>\n",
       "    <tr>\n",
       "      <th>2</th>\n",
       "      <td>Existing</td>\n",
       "      <td>No</td>\n",
       "      <td>Urban</td>\n",
       "      <td>Yes</td>\n",
       "    </tr>\n",
       "    <tr>\n",
       "      <th>3</th>\n",
       "      <td>New</td>\n",
       "      <td>No</td>\n",
       "      <td>Urban</td>\n",
       "      <td>Yes</td>\n",
       "    </tr>\n",
       "    <tr>\n",
       "      <th>4</th>\n",
       "      <td>Existing</td>\n",
       "      <td>No</td>\n",
       "      <td>Urban</td>\n",
       "      <td>0</td>\n",
       "    </tr>\n",
       "  </tbody>\n",
       "</table>\n",
       "</div>"
      ],
      "text/plain": [
       "   Business Low_Documentation_Loan Demography Revolving_Credit_Line\n",
       "0  Existing                     No  Undefined                    No\n",
       "1       New                     No      Urban                     0\n",
       "2  Existing                     No      Urban                   Yes\n",
       "3       New                     No      Urban                   Yes\n",
       "4  Existing                     No      Urban                     0"
      ]
     },
     "execution_count": 230,
     "metadata": {},
     "output_type": "execute_result"
    }
   ],
   "source": [
    "df_cat = df_cat.select_dtypes(include='object')\n",
    "df_cat.head()"
   ]
  },
  {
   "cell_type": "code",
   "execution_count": 231,
   "id": "6762cd89",
   "metadata": {},
   "outputs": [],
   "source": [
    "# df_cat.info()"
   ]
  },
  {
   "cell_type": "code",
   "execution_count": 232,
   "id": "2e2087be",
   "metadata": {},
   "outputs": [],
   "source": [
    "# train_data.describe().T"
   ]
  },
  {
   "cell_type": "code",
   "execution_count": 233,
   "id": "11a80080",
   "metadata": {},
   "outputs": [],
   "source": [
    "# for column in df_cat.columns:\n",
    "#     #if df_LinReg[column].dtype == 'object':\n",
    "#     print(column.upper(),': ',df_cat[column].nunique())\n",
    "#     print(df_cat[column].value_counts().sort_values())\n",
    "#     print('\\n')"
   ]
  },
  {
   "cell_type": "code",
   "execution_count": 234,
   "id": "858b8aff",
   "metadata": {},
   "outputs": [],
   "source": [
    "# df_cat.columns"
   ]
  },
  {
   "cell_type": "code",
   "execution_count": 235,
   "id": "1a671dc9",
   "metadata": {},
   "outputs": [],
   "source": [
    "df_cat['Business']=np.where(df_cat['Business'] =='0', 'Existing', df_cat['Business'])"
   ]
  },
  {
   "cell_type": "code",
   "execution_count": 236,
   "id": "d3ec6bcd",
   "metadata": {},
   "outputs": [],
   "source": [
    "df_cat['Low_Documentation_Loan']=np.where(df_cat['Low_Documentation_Loan'] =='R' , 'Yes', df_cat['Low_Documentation_Loan'])\n",
    "df_cat['Low_Documentation_Loan']=np.where(df_cat['Low_Documentation_Loan'] =='A' , 'Yes', df_cat['Low_Documentation_Loan'])\n",
    "df_cat['Low_Documentation_Loan']=np.where(df_cat['Low_Documentation_Loan'] =='C' , 'Yes', df_cat['Low_Documentation_Loan'])\n",
    "df_cat['Low_Documentation_Loan']=np.where(df_cat['Low_Documentation_Loan'] =='S' , 'Yes', df_cat['Low_Documentation_Loan'])\n",
    "df_cat['Low_Documentation_Loan']=np.where(df_cat['Low_Documentation_Loan'] =='0' , 'Yes', df_cat['Low_Documentation_Loan'])"
   ]
  },
  {
   "cell_type": "code",
   "execution_count": 237,
   "id": "125aa326",
   "metadata": {},
   "outputs": [],
   "source": [
    "df_cat['Demography'] = np.where(df_cat['Demography'] =='Undefined', 'Urban', df_cat['Demography'])"
   ]
  },
  {
   "cell_type": "code",
   "execution_count": 238,
   "id": "104f8909",
   "metadata": {},
   "outputs": [],
   "source": [
    "df_cat['Revolving_Credit_Line'] = np.where(df_cat['Revolving_Credit_Line'] == '2', 'No',df_cat['Revolving_Credit_Line'])\n",
    "df_cat['Revolving_Credit_Line'] = np.where(df_cat['Revolving_Credit_Line'] == '4', 'No',df_cat['Revolving_Credit_Line'])\n",
    "df_cat['Revolving_Credit_Line'] = np.where(df_cat['Revolving_Credit_Line'] == '.', 'No',df_cat['Revolving_Credit_Line'])\n",
    "df_cat['Revolving_Credit_Line'] = np.where(df_cat['Revolving_Credit_Line'] == 'C', 'No',df_cat['Revolving_Credit_Line'])\n",
    "df_cat['Revolving_Credit_Line'] = np.where(df_cat['Revolving_Credit_Line'] == '1', 'No', df_cat['Revolving_Credit_Line'])\n",
    "df_cat['Revolving_Credit_Line'] = np.where(df_cat['Revolving_Credit_Line'] == 'R', 'No',df_cat['Revolving_Credit_Line'])\n",
    "df_cat['Revolving_Credit_Line'] = np.where(df_cat['Revolving_Credit_Line'] == 'T', 'No',df_cat['Revolving_Credit_Line'])\n",
    "df_cat['Revolving_Credit_Line'] = np.where(df_cat['Revolving_Credit_Line'] == '`', 'No',df_cat['Revolving_Credit_Line'])\n",
    "df_cat['Revolving_Credit_Line'] = np.where(df_cat['Revolving_Credit_Line'] == '0', 'No',df_cat['Revolving_Credit_Line'])"
   ]
  },
  {
   "cell_type": "code",
   "execution_count": 239,
   "id": "abb64458",
   "metadata": {},
   "outputs": [
    {
     "name": "stdout",
     "output_type": "stream",
     "text": [
      "\n",
      "\n",
      "feature: Business\n",
      "['Existing', 'New']\n",
      "Categories (2, object): ['Existing', 'New']\n",
      "[0 1]\n",
      "\n",
      "\n",
      "feature: Low_Documentation_Loan\n",
      "['No', 'Yes']\n",
      "Categories (2, object): ['No', 'Yes']\n",
      "[0 1]\n",
      "\n",
      "\n",
      "feature: Demography\n",
      "['Urban', 'Rural']\n",
      "Categories (2, object): ['Rural', 'Urban']\n",
      "[1 0]\n",
      "\n",
      "\n",
      "feature: Revolving_Credit_Line\n",
      "['No', 'Yes']\n",
      "Categories (2, object): ['No', 'Yes']\n",
      "[0 1]\n"
     ]
    }
   ],
   "source": [
    "for feature in df_cat.columns: \n",
    "    if df_cat[feature].dtype == 'object': \n",
    "        print('\\n')\n",
    "        print('feature:',feature)\n",
    "        print(pd.Categorical(df_cat[feature].unique()))\n",
    "        print(pd.Categorical(df_cat[feature].unique()).codes)\n",
    "        df_cat[feature] = \n",
    "        (df_cat[feature]).codes"
   ]
  },
  {
   "cell_type": "code",
   "execution_count": 240,
   "id": "a2b89ac5",
   "metadata": {},
   "outputs": [],
   "source": [
    "# df_cat.info()\n",
    "# #df_cat.columns"
   ]
  },
  {
   "cell_type": "code",
   "execution_count": 241,
   "id": "33137d68",
   "metadata": {},
   "outputs": [],
   "source": [
    "# sns.heatmap(train_data.corr(),annot=True)"
   ]
  },
  {
   "cell_type": "code",
   "execution_count": 242,
   "id": "32413a79",
   "metadata": {},
   "outputs": [
    {
     "data": {
      "text/html": [
       "<div>\n",
       "<style scoped>\n",
       "    .dataframe tbody tr th:only-of-type {\n",
       "        vertical-align: middle;\n",
       "    }\n",
       "\n",
       "    .dataframe tbody tr th {\n",
       "        vertical-align: top;\n",
       "    }\n",
       "\n",
       "    .dataframe thead th {\n",
       "        text-align: right;\n",
       "    }\n",
       "</style>\n",
       "<table border=\"1\" class=\"dataframe\">\n",
       "  <thead>\n",
       "    <tr style=\"text-align: right;\">\n",
       "      <th></th>\n",
       "      <th>Jobs_Reatained</th>\n",
       "      <th>Jobs_Created</th>\n",
       "      <th>Count_Employees</th>\n",
       "      <th>Loan_Term</th>\n",
       "      <th>Default</th>\n",
       "      <th>Guaranteed_Approved _Loan</th>\n",
       "      <th>Loan_Approved_Gross</th>\n",
       "      <th>Gross_Amount_Disbursed</th>\n",
       "      <th>Business</th>\n",
       "      <th>Low_Documentation_Loan</th>\n",
       "      <th>Demography</th>\n",
       "      <th>Revolving_Credit_Line</th>\n",
       "    </tr>\n",
       "  </thead>\n",
       "  <tbody>\n",
       "    <tr>\n",
       "      <th>0</th>\n",
       "      <td>0</td>\n",
       "      <td>0</td>\n",
       "      <td>38</td>\n",
       "      <td>126</td>\n",
       "      <td>0</td>\n",
       "      <td>33121600.0</td>\n",
       "      <td>40640000.0</td>\n",
       "      <td>40640000.00</td>\n",
       "      <td>0</td>\n",
       "      <td>0</td>\n",
       "      <td>1</td>\n",
       "      <td>0</td>\n",
       "    </tr>\n",
       "    <tr>\n",
       "      <th>1</th>\n",
       "      <td>0</td>\n",
       "      <td>6</td>\n",
       "      <td>6</td>\n",
       "      <td>123</td>\n",
       "      <td>1</td>\n",
       "      <td>32735520.0</td>\n",
       "      <td>43647360.0</td>\n",
       "      <td>43647360.00</td>\n",
       "      <td>1</td>\n",
       "      <td>0</td>\n",
       "      <td>1</td>\n",
       "      <td>0</td>\n",
       "    </tr>\n",
       "    <tr>\n",
       "      <th>2</th>\n",
       "      <td>4</td>\n",
       "      <td>0</td>\n",
       "      <td>4</td>\n",
       "      <td>90</td>\n",
       "      <td>0</td>\n",
       "      <td>1422400.0</td>\n",
       "      <td>2844800.0</td>\n",
       "      <td>5961400.32</td>\n",
       "      <td>0</td>\n",
       "      <td>0</td>\n",
       "      <td>1</td>\n",
       "      <td>1</td>\n",
       "    </tr>\n",
       "    <tr>\n",
       "      <th>3</th>\n",
       "      <td>9</td>\n",
       "      <td>1</td>\n",
       "      <td>7</td>\n",
       "      <td>126</td>\n",
       "      <td>0</td>\n",
       "      <td>2032000.0</td>\n",
       "      <td>4064000.0</td>\n",
       "      <td>4064000.00</td>\n",
       "      <td>1</td>\n",
       "      <td>0</td>\n",
       "      <td>1</td>\n",
       "      <td>1</td>\n",
       "    </tr>\n",
       "    <tr>\n",
       "      <th>4</th>\n",
       "      <td>4</td>\n",
       "      <td>0</td>\n",
       "      <td>4</td>\n",
       "      <td>104</td>\n",
       "      <td>1</td>\n",
       "      <td>22981920.0</td>\n",
       "      <td>30642560.0</td>\n",
       "      <td>30642560.00</td>\n",
       "      <td>0</td>\n",
       "      <td>0</td>\n",
       "      <td>1</td>\n",
       "      <td>0</td>\n",
       "    </tr>\n",
       "  </tbody>\n",
       "</table>\n",
       "</div>"
      ],
      "text/plain": [
       "   Jobs_Reatained  Jobs_Created   Count_Employees  Loan_Term  Default  \\\n",
       "0               0              0               38        126        0   \n",
       "1               0              6                6        123        1   \n",
       "2               4              0                4         90        0   \n",
       "3               9              1                7        126        0   \n",
       "4               4              0                4        104        1   \n",
       "\n",
       "   Guaranteed_Approved _Loan  Loan_Approved_Gross  Gross_Amount_Disbursed    \\\n",
       "0                 33121600.0           40640000.0               40640000.00   \n",
       "1                 32735520.0           43647360.0               43647360.00   \n",
       "2                  1422400.0            2844800.0                5961400.32   \n",
       "3                  2032000.0            4064000.0                4064000.00   \n",
       "4                 22981920.0           30642560.0               30642560.00   \n",
       "\n",
       "   Business  Low_Documentation_Loan  Demography  Revolving_Credit_Line  \n",
       "0         0                       0           1                      0  \n",
       "1         1                       0           1                      0  \n",
       "2         0                       0           1                      1  \n",
       "3         1                       0           1                      1  \n",
       "4         0                       0           1                      0  "
      ]
     },
     "execution_count": 242,
     "metadata": {},
     "output_type": "execute_result"
    }
   ],
   "source": [
    "df1 = pd.concat([df_num,df_cat],axis=1)\n",
    "df1.head()"
   ]
  },
  {
   "cell_type": "code",
   "execution_count": null,
   "id": "c452dc21",
   "metadata": {},
   "outputs": [],
   "source": []
  },
  {
   "cell_type": "code",
   "execution_count": 243,
   "id": "cfd24315",
   "metadata": {},
   "outputs": [],
   "source": [
    "# df1.head()"
   ]
  },
  {
   "cell_type": "code",
   "execution_count": 244,
   "id": "23145862",
   "metadata": {},
   "outputs": [],
   "source": [
    "# df1.columns"
   ]
  },
  {
   "cell_type": "code",
   "execution_count": 245,
   "id": "be8b5e49",
   "metadata": {},
   "outputs": [],
   "source": [
    "# plt.figure(figsize = (20,7))\n",
    "# feature = df1.columns\n",
    "# for i in range(len(feature)):\n",
    "#     plt.subplot(4,4,i+1)\n",
    "#     sns.boxplot(x=df1[feature[i]], data=df1, color='b');\n",
    "#     plt.title('Boxplot of {}'.format(feature[i]))\n",
    "   "
   ]
  },
  {
   "cell_type": "code",
   "execution_count": 246,
   "id": "14a5eb77",
   "metadata": {},
   "outputs": [],
   "source": [
    "def remove_outlier(col):\n",
    "    sorted(col)\n",
    "    Q1,Q3=col.quantile([0.25,0.75])\n",
    "    IQR=Q3-Q1\n",
    "    lower_range= Q1-(1.5 * IQR)\n",
    "    upper_range= Q3+(1.5 * IQR)\n",
    "    return lower_range, upper_range"
   ]
  },
  {
   "cell_type": "code",
   "execution_count": 247,
   "id": "68e2eadb",
   "metadata": {},
   "outputs": [],
   "source": [
    "#Outlier = ['AgentBonus','Age','CustTenure','ExistingProdType','NumberOfPolicy','MonthlyIncome','ExistingPolicyTenure','SumAssured','LastMonthCalls','CustCareScore']\n",
    "for i in df1.columns:\n",
    "    LL,UL = remove_outlier(df1[i])\n",
    "    df1[i]=np.where(df1[i]>UL,UL,df1[i])\n",
    "    df1[i]=np.where(df1[i]<LL,LL,df1[i])"
   ]
  },
  {
   "cell_type": "code",
   "execution_count": 248,
   "id": "d4f80de4",
   "metadata": {},
   "outputs": [],
   "source": [
    "# plt.figure(figsize = (20,7))\n",
    "# feature = df1.columns\n",
    "# for i in range(len(feature)):\n",
    "#     plt.subplot(4,4,i+1)\n",
    "#     sns.boxplot(x=df1[feature[i]], data=df1, color='b');\n",
    "#     plt.title('Boxplot of {}'.format(feature[i]))\n",
    "   "
   ]
  },
  {
   "cell_type": "code",
   "execution_count": 249,
   "id": "6b718d4a",
   "metadata": {},
   "outputs": [],
   "source": [
    "df1['Guaranteed_Approved _Loan'] = np.log(df1['Guaranteed_Approved _Loan'])\n",
    "df1['Loan_Approved_Gross'] = np.log(df1['Loan_Approved_Gross'])\n",
    "df1['Gross_Amount_Disbursed  '] = np.log(df1['Gross_Amount_Disbursed  '])\n",
    "df1['Loan_Term'] = np.log(df1['Loan_Term'])"
   ]
  },
  {
   "cell_type": "code",
   "execution_count": 250,
   "id": "81652be3",
   "metadata": {},
   "outputs": [],
   "source": [
    "# from scipy.stats import zscore\n",
    "# df1 = df1.apply(zscore)"
   ]
  },
  {
   "cell_type": "code",
   "execution_count": 251,
   "id": "f8d72224",
   "metadata": {},
   "outputs": [],
   "source": [
    "# df1.head()"
   ]
  },
  {
   "cell_type": "code",
   "execution_count": 252,
   "id": "ae637233",
   "metadata": {},
   "outputs": [],
   "source": [
    "# df1.describe()"
   ]
  },
  {
   "cell_type": "code",
   "execution_count": 253,
   "id": "0574bd61",
   "metadata": {},
   "outputs": [],
   "source": [
    "X = df1.drop('Default',axis=1)\n",
    "y= df1[['Default']]"
   ]
  },
  {
   "cell_type": "code",
   "execution_count": 254,
   "id": "d9ec3eb7",
   "metadata": {},
   "outputs": [],
   "source": [
    "# X.head()"
   ]
  },
  {
   "cell_type": "code",
   "execution_count": 255,
   "id": "46ed7ed2",
   "metadata": {},
   "outputs": [],
   "source": [
    "# from statsmodels.stats.outliers_influence import variance_inflation_factor"
   ]
  },
  {
   "cell_type": "code",
   "execution_count": 256,
   "id": "522a3da3",
   "metadata": {},
   "outputs": [],
   "source": [
    "# vif = [variance_inflation_factor(X.values, ix) for ix in range(X.shape[1])] \n",
    "# i=0\n",
    "# for column in X.columns:\n",
    "#     if i < 18:\n",
    "#         print (column ,\"--->\",  vif[i])\n",
    "#         i = i+1"
   ]
  },
  {
   "cell_type": "code",
   "execution_count": 257,
   "id": "a150b2c5",
   "metadata": {},
   "outputs": [],
   "source": [
    "# X = X.drop(['Guaranteed_Approved _Loan','Loan_Approved_Gross','Demography'],axis=1)"
   ]
  },
  {
   "cell_type": "code",
   "execution_count": 258,
   "id": "634452af",
   "metadata": {},
   "outputs": [],
   "source": [
    "from sklearn.model_selection import train_test_split"
   ]
  },
  {
   "cell_type": "code",
   "execution_count": 259,
   "id": "4bdb9adc",
   "metadata": {},
   "outputs": [],
   "source": [
    "X_train,X_test,y_train,y_test = train_test_split(X,y,test_size=0.20,random_state=123)"
   ]
  },
  {
   "cell_type": "code",
   "execution_count": 260,
   "id": "4189ff5c",
   "metadata": {},
   "outputs": [],
   "source": [
    "# from sklearn.preprocessing import MinMaxScaler\n",
    "\n",
    "# scaler = MinMaxScaler()\n",
    "# X_train=scaler.fit(X_train)\n",
    "# X_test=scaler.transform(X_test)"
   ]
  },
  {
   "cell_type": "code",
   "execution_count": 261,
   "id": "5e01932c",
   "metadata": {},
   "outputs": [],
   "source": [
    "# from sklearn.preprocessing import StandardScaler\n",
    "# sc =StandardScaler()\n",
    "# X_train = sc.fit_transform(X_train)\n",
    "# X_test = sc.transform(X_test)"
   ]
  },
  {
   "cell_type": "code",
   "execution_count": 262,
   "id": "bfd8bb01",
   "metadata": {},
   "outputs": [],
   "source": [
    "def my_confusion_matrix(y_test, y_pred, plt_title):\n",
    "    cm = confusion_matrix(y_test, y_pred)\n",
    "    print(classification_report(y_test, y_pred))\n",
    "    sns.heatmap(cm, annot=True, fmt='g', cbar=False, cmap='BuPu')\n",
    "    plt.xlabel('Predicted values')\n",
    "    plt.ylabel('Actual Values')\n",
    "    plt.title(plt_title)\n",
    "    plt.show()\n",
    "    return cm"
   ]
  },
  {
   "cell_type": "markdown",
   "id": "3d9d40ed",
   "metadata": {},
   "source": [
    "# Gradient Boosting"
   ]
  },
  {
   "cell_type": "code",
   "execution_count": 265,
   "id": "f0626a72",
   "metadata": {},
   "outputs": [],
   "source": [
    "from sklearn.ensemble import GradientBoostingClassifier\n",
    "gb = GradientBoostingClassifier(loss = 'deviance', n_estimators= 100, criterion = 'squared_error', max_depth = 20, max_features = 'log2')"
   ]
  },
  {
   "cell_type": "code",
   "execution_count": 266,
   "id": "9ec7aeda",
   "metadata": {},
   "outputs": [
    {
     "data": {
      "text/plain": [
       "GradientBoostingClassifier(criterion='squared_error', max_depth=20,\n",
       "                           max_features='log2')"
      ]
     },
     "execution_count": 266,
     "metadata": {},
     "output_type": "execute_result"
    }
   ],
   "source": [
    "gb.fit(X_train,y_train)"
   ]
  },
  {
   "cell_type": "code",
   "execution_count": 267,
   "id": "b12201c4",
   "metadata": {},
   "outputs": [],
   "source": [
    "ytrain_pred_gb = gb.predict(X_train)\n",
    "ytest_pred_gb = gb.predict(X_test)"
   ]
  },
  {
   "cell_type": "code",
   "execution_count": 268,
   "id": "dfd70ed7",
   "metadata": {},
   "outputs": [
    {
     "name": "stdout",
     "output_type": "stream",
     "text": [
      "GB classifier Train Accuracy Score:  0.9905238095238095\n",
      "******************************************************************************\n",
      "              precision    recall  f1-score   support\n",
      "\n",
      "         0.0       0.99      1.00      0.99     60738\n",
      "         1.0       1.00      0.97      0.98     23262\n",
      "\n",
      "    accuracy                           0.99     84000\n",
      "   macro avg       0.99      0.98      0.99     84000\n",
      "weighted avg       0.99      0.99      0.99     84000\n",
      "\n"
     ]
    },
    {
     "data": {
      "image/png": "[encoded data removed]",
      "text/plain": [
       "<Figure size 432x288 with 1 Axes>"
      ]
     },
     "metadata": {
      "needs_background": "light"
     },
     "output_type": "display_data"
    }
   ],
   "source": [
    "print('GB classifier Train Accuracy Score: ', accuracy_score(y_train, ytrain_pred_gb))\n",
    "print('******************************************************************************')\n",
    "cm_gb = my_confusion_matrix(y_train, ytrain_pred_gb, 'GB Confusion Matrix')"
   ]
  },
  {
   "cell_type": "code",
   "execution_count": 269,
   "id": "e60144f0",
   "metadata": {},
   "outputs": [
    {
     "name": "stdout",
     "output_type": "stream",
     "text": [
      "GB classifier test Accuracy Score:  0.8976190476190476\n",
      "******************************************************************************\n",
      "              precision    recall  f1-score   support\n",
      "\n",
      "         0.0       0.92      0.94      0.93     15158\n",
      "         1.0       0.84      0.78      0.81      5842\n",
      "\n",
      "    accuracy                           0.90     21000\n",
      "   macro avg       0.88      0.86      0.87     21000\n",
      "weighted avg       0.90      0.90      0.90     21000\n",
      "\n"
     ]
    },
    {
     "data": {
      "image/png": "[encoded data removed]",
      "text/plain": [
       "<Figure size 432x288 with 1 Axes>"
      ]
     },
     "metadata": {
      "needs_background": "light"
     },
     "output_type": "display_data"
    }
   ],
   "source": [
    "print('GB classifier test Accuracy Score: ', accuracy_score(y_test, ytest_pred_gb))\n",
    "print('******************************************************************************')\n",
    "cm_gb = my_confusion_matrix(y_test, ytest_pred_gb, 'GB Confusion Matrix')"
   ]
  },
  {
   "cell_type": "markdown",
   "id": "ec3001ce",
   "metadata": {},
   "source": [
    "# Grid Search"
   ]
  },
  {
   "cell_type": "code",
   "execution_count": 270,
   "id": "4900bde1",
   "metadata": {},
   "outputs": [],
   "source": [
    "from sklearn.model_selection import GridSearchCV\n",
    "from sklearn.ensemble import GradientBoostingClassifier"
   ]
  },
  {
   "cell_type": "code",
   "execution_count": 271,
   "id": "cf2c512f",
   "metadata": {},
   "outputs": [],
   "source": [
    "# param_test2 = {'max_depth':range(5,16,2), 'min_samples_split':range(200,1001,200)}\n",
    "# gsearch2 = GridSearchCV(estimator = GradientBoostingClassifier(learning_rate=0.1, n_estimators=60, max_features='sqrt', subsample=0.8, random_state=10), \n",
    "# param_grid = param_test2, scoring='roc_auc',n_jobs=4,cv=5)\n",
    "# gsearch2.fit(X_train, y_train)\n"
   ]
  },
  {
   "cell_type": "code",
   "execution_count": 272,
   "id": "91a5c621",
   "metadata": {},
   "outputs": [],
   "source": [
    "# gsearch2.best_params_"
   ]
  },
  {
   "cell_type": "code",
   "execution_count": 273,
   "id": "90208b9c",
   "metadata": {},
   "outputs": [],
   "source": [
    "# gsearch2.best_score_"
   ]
  },
  {
   "cell_type": "code",
   "execution_count": 274,
   "id": "4111984c",
   "metadata": {},
   "outputs": [],
   "source": [
    "# ytrain_pred_ = gsearch2.predict(X_train)\n",
    "# ytest_pred_ =gsearch2.predict(X_test)"
   ]
  },
  {
   "cell_type": "code",
   "execution_count": 275,
   "id": "1e546e04",
   "metadata": {},
   "outputs": [],
   "source": [
    "# print('GBGrid classifier Train Accuracy Score: ', accuracy_score(y_train, ytrain_pred_))\n",
    "# print('******************************************************************************')\n",
    "# cm_gbgs = my_confusion_matrix(y_train, ytrain_pred_, 'GBGrid Confusion Matrix')   "
   ]
  },
  {
   "cell_type": "code",
   "execution_count": 276,
   "id": "f28faca5",
   "metadata": {},
   "outputs": [],
   "source": [
    "# print('GBGird classifier Test Accuracy Score: ', accuracy_score(y_test, ytest_pred_))\n",
    "# print('******************************************************************************')\n",
    "# cm_gsgb = my_confusion_matrix(y_test, ytest_pred_, 'GBGrid Confusion Matrix')"
   ]
  },
  {
   "cell_type": "markdown",
   "id": "1562ed7a",
   "metadata": {},
   "source": []
  },
  {
   "cell_type": "code",
   "execution_count": 277,
   "id": "829df575",
   "metadata": {},
   "outputs": [],
   "source": [
    "testing_data  = pd.read_csv('D:/Wilson Analytics -Mega Hackathon_Dec2022/testing_data.csv')"
   ]
  },
  {
   "cell_type": "code",
   "execution_count": 278,
   "id": "e846f3f1",
   "metadata": {},
   "outputs": [],
   "source": [
    "df3 = testing_data.copy()"
   ]
  },
  {
   "cell_type": "code",
   "execution_count": 279,
   "id": "1ffbbf19",
   "metadata": {},
   "outputs": [],
   "source": [
    "# df3.head()"
   ]
  },
  {
   "cell_type": "code",
   "execution_count": 280,
   "id": "83f1cd9d",
   "metadata": {},
   "outputs": [],
   "source": [
    "df3 = df3.drop(['ID','Date_Of_Disbursement','ChargedOff_Amount ','Gross_Amount_Balance','Borrower_Name ','Commitment_Date','Year_Of_Commitment ','State_Of_Bank','Borrower_City','Borrower_State','Classification_Code ','Commitment_Date','Code_Franchise','Name_Of_Bank'],axis=1)"
   ]
  },
  {
   "cell_type": "code",
   "execution_count": 281,
   "id": "af145e83",
   "metadata": {},
   "outputs": [],
   "source": [
    "df3['Guaranteed_Approved _Loan'] = df3['Guaranteed_Approved _Loan'].str.replace('Rs.','').astype('float')\n",
    "df3['Loan_Approved_Gross'] = df3['Loan_Approved_Gross'].str.replace(',','').str.replace('Rs.','').astype('float')\n",
    "df3['Gross_Amount_Disbursed  '] = df3['Gross_Amount_Disbursed  '].str.replace(',','').str.replace('Rs.','').astype('float')"
   ]
  },
  {
   "cell_type": "code",
   "execution_count": 282,
   "id": "5793cdca",
   "metadata": {},
   "outputs": [],
   "source": [
    "# df3.info()"
   ]
  },
  {
   "cell_type": "code",
   "execution_count": 283,
   "id": "173f7e91",
   "metadata": {},
   "outputs": [],
   "source": [
    "for column in df3.columns:\n",
    "    if df3[column].dtype == 'object':\n",
    "        column.upper(),': ',df3[column].nunique()\n",
    "        df3[column].value_counts().sort_values()\n",
    "        #print('\\n')"
   ]
  },
  {
   "cell_type": "code",
   "execution_count": 284,
   "id": "7b4edb96",
   "metadata": {},
   "outputs": [],
   "source": [
    "df3['Business']=np.where(df3['Business'] =='0', 'Existing', df3['Business'])"
   ]
  },
  {
   "cell_type": "code",
   "execution_count": 285,
   "id": "6d169cad",
   "metadata": {},
   "outputs": [],
   "source": [
    "df3['Low_Documentation_Loan']=np.where(df3['Low_Documentation_Loan'] =='R' , 'Yes', df3['Low_Documentation_Loan'])\n",
    "df3['Low_Documentation_Loan']=np.where(df3['Low_Documentation_Loan'] =='A' , 'Yes', df3['Low_Documentation_Loan'])\n",
    "df3['Low_Documentation_Loan']=np.where(df3['Low_Documentation_Loan'] =='C' , 'Yes', df3['Low_Documentation_Loan'])\n",
    "df3['Low_Documentation_Loan']=np.where(df3['Low_Documentation_Loan'] =='S' , 'Yes', df3['Low_Documentation_Loan'])\n",
    "df3['Low_Documentation_Loan']=np.where(df3['Low_Documentation_Loan'] =='0' , 'Yes', df3['Low_Documentation_Loan'])"
   ]
  },
  {
   "cell_type": "code",
   "execution_count": 286,
   "id": "098c14c6",
   "metadata": {},
   "outputs": [],
   "source": [
    "df3['Demography'] = np.where(df3['Demography'] =='Undefined', 'Urban', df3['Demography'])"
   ]
  },
  {
   "cell_type": "code",
   "execution_count": 287,
   "id": "85a515de",
   "metadata": {},
   "outputs": [],
   "source": [
    "df3['Business'] = df3['Business'].fillna(df3['Business'].mode()[0],axis=0)\n",
    "df3['Low_Documentation_Loan'] = df3['Low_Documentation_Loan'].fillna(df3['Low_Documentation_Loan'].mode()[0],axis=0)\n",
    "df3['Revolving_Credit_Line'] = df3['Revolving_Credit_Line'].fillna(df3['Revolving_Credit_Line'].mode()[0],axis=0)"
   ]
  },
  {
   "cell_type": "code",
   "execution_count": 288,
   "id": "169cf141",
   "metadata": {},
   "outputs": [],
   "source": [
    "# df3.isnull().sum()"
   ]
  },
  {
   "cell_type": "code",
   "execution_count": 289,
   "id": "6c9106b8",
   "metadata": {},
   "outputs": [],
   "source": [
    "for feature in df3.columns: \n",
    "    if df3[feature].dtype == 'object': \n",
    "        #print('\\n')\n",
    "        #print('feature:',feature)\n",
    "        pd.Categorical(df3[feature].unique())\n",
    "        pd.Categorical(df3[feature].unique()).codes\n",
    "        df3[feature] = pd.Categorical(df3[feature]).codes"
   ]
  },
  {
   "cell_type": "code",
   "execution_count": 290,
   "id": "f4e46977",
   "metadata": {},
   "outputs": [],
   "source": [
    "# df1.head()"
   ]
  },
  {
   "cell_type": "code",
   "execution_count": 291,
   "id": "ff8996b1",
   "metadata": {},
   "outputs": [],
   "source": [
    "# df1.columns"
   ]
  },
  {
   "cell_type": "code",
   "execution_count": 292,
   "id": "d35436a8",
   "metadata": {},
   "outputs": [],
   "source": [
    "df3 = df3[['Jobs_Reatained', 'Jobs_Created ', 'Count_Employees', 'Loan_Term',\n",
    "       'Guaranteed_Approved _Loan', 'Loan_Approved_Gross',\n",
    "       'Gross_Amount_Disbursed  ', 'Business', 'Low_Documentation_Loan',\n",
    "       'Demography', 'Revolving_Credit_Line']]"
   ]
  },
  {
   "cell_type": "code",
   "execution_count": 293,
   "id": "3305fcf9",
   "metadata": {},
   "outputs": [],
   "source": [
    "# df3.head()"
   ]
  },
  {
   "cell_type": "code",
   "execution_count": 294,
   "id": "d66770bf",
   "metadata": {},
   "outputs": [],
   "source": [
    "pred = gsearch2.predict(df3)"
   ]
  },
  {
   "cell_type": "code",
   "execution_count": 295,
   "id": "20f950fc",
   "metadata": {},
   "outputs": [
    {
     "data": {
      "text/plain": [
       "array([0., 0., 0., ..., 0., 0., 0.])"
      ]
     },
     "execution_count": 295,
     "metadata": {},
     "output_type": "execute_result"
    }
   ],
   "source": [
    "pred"
   ]
  },
  {
   "cell_type": "code",
   "execution_count": 296,
   "id": "eaca2c56",
   "metadata": {},
   "outputs": [],
   "source": [
    "testing_data['Default'] = pred"
   ]
  },
  {
   "cell_type": "code",
   "execution_count": 297,
   "id": "c8d5cd6b",
   "metadata": {},
   "outputs": [
    {
     "data": {
      "text/html": [
       "<div>\n",
       "<style scoped>\n",
       "    .dataframe tbody tr th:only-of-type {\n",
       "        vertical-align: middle;\n",
       "    }\n",
       "\n",
       "    .dataframe tbody tr th {\n",
       "        vertical-align: top;\n",
       "    }\n",
       "\n",
       "    .dataframe thead th {\n",
       "        text-align: right;\n",
       "    }\n",
       "</style>\n",
       "<table border=\"1\" class=\"dataframe\">\n",
       "  <thead>\n",
       "    <tr style=\"text-align: right;\">\n",
       "      <th></th>\n",
       "      <th>ID</th>\n",
       "      <th>Date_Of_Disbursement</th>\n",
       "      <th>Business</th>\n",
       "      <th>Jobs_Reatained</th>\n",
       "      <th>Jobs_Created</th>\n",
       "      <th>Year_Of_Commitment</th>\n",
       "      <th>Guaranteed_Approved _Loan</th>\n",
       "      <th>Borrower_Name</th>\n",
       "      <th>Low_Documentation_Loan</th>\n",
       "      <th>Demography</th>\n",
       "      <th>...</th>\n",
       "      <th>Classification_Code</th>\n",
       "      <th>Loan_Approved_Gross</th>\n",
       "      <th>Gross_Amount_Disbursed</th>\n",
       "      <th>Loan_Term</th>\n",
       "      <th>Commitment_Date</th>\n",
       "      <th>Primary_Loan_Digit</th>\n",
       "      <th>Code_Franchise</th>\n",
       "      <th>Name_Of_Bank</th>\n",
       "      <th>Revolving_Credit_Line</th>\n",
       "      <th>Default</th>\n",
       "    </tr>\n",
       "  </thead>\n",
       "  <tbody>\n",
       "    <tr>\n",
       "      <th>0</th>\n",
       "      <td>105000</td>\n",
       "      <td>31-Mar-06</td>\n",
       "      <td>Existing</td>\n",
       "      <td>19</td>\n",
       "      <td>0</td>\n",
       "      <td>2006</td>\n",
       "      <td>Rs.4064000.0</td>\n",
       "      <td>Diversified Display Products o</td>\n",
       "      <td>No</td>\n",
       "      <td>Urban</td>\n",
       "      <td>...</td>\n",
       "      <td>326199</td>\n",
       "      <td>Rs.8128000.0</td>\n",
       "      <td>Rs.9403852.16</td>\n",
       "      <td>57</td>\n",
       "      <td>09-Mar-06</td>\n",
       "      <td>1702825000</td>\n",
       "      <td>0</td>\n",
       "      <td>ICICI Bank Ltd.</td>\n",
       "      <td>Yes</td>\n",
       "      <td>0.0</td>\n",
       "    </tr>\n",
       "    <tr>\n",
       "      <th>1</th>\n",
       "      <td>105001</td>\n",
       "      <td>31-Jan-95</td>\n",
       "      <td>Existing</td>\n",
       "      <td>0</td>\n",
       "      <td>0</td>\n",
       "      <td>1995</td>\n",
       "      <td>Rs.1463040.0</td>\n",
       "      <td>FOOTE CONSULTING GROUP, INC.</td>\n",
       "      <td>Yes</td>\n",
       "      <td>Undefined</td>\n",
       "      <td>...</td>\n",
       "      <td>0</td>\n",
       "      <td>Rs.1625600.0</td>\n",
       "      <td>Rs.1625600.0</td>\n",
       "      <td>90</td>\n",
       "      <td>14-Dec-94</td>\n",
       "      <td>7908833003</td>\n",
       "      <td>1</td>\n",
       "      <td>South Indian Bank Ltd.</td>\n",
       "      <td>No</td>\n",
       "      <td>0.0</td>\n",
       "    </tr>\n",
       "    <tr>\n",
       "      <th>2</th>\n",
       "      <td>105002</td>\n",
       "      <td>30-Sep-06</td>\n",
       "      <td>Existing</td>\n",
       "      <td>7</td>\n",
       "      <td>5</td>\n",
       "      <td>2006</td>\n",
       "      <td>Rs.812800.0</td>\n",
       "      <td>INTEGRATED COMERCIAL ENTERPRIS</td>\n",
       "      <td>No</td>\n",
       "      <td>Urban</td>\n",
       "      <td>...</td>\n",
       "      <td>541611</td>\n",
       "      <td>Rs.1625600.0</td>\n",
       "      <td>Rs.3450336.0</td>\n",
       "      <td>81</td>\n",
       "      <td>25-Aug-06</td>\n",
       "      <td>2361626001</td>\n",
       "      <td>1</td>\n",
       "      <td>IDBI Bank Limited</td>\n",
       "      <td>Yes</td>\n",
       "      <td>0.0</td>\n",
       "    </tr>\n",
       "    <tr>\n",
       "      <th>3</th>\n",
       "      <td>105003</td>\n",
       "      <td>31-Jul-00</td>\n",
       "      <td>New</td>\n",
       "      <td>2</td>\n",
       "      <td>0</td>\n",
       "      <td>2000</td>\n",
       "      <td>Rs.2032000.0</td>\n",
       "      <td>FIRST IN RESCUE EQUIPMENT</td>\n",
       "      <td>No</td>\n",
       "      <td>Urban</td>\n",
       "      <td>...</td>\n",
       "      <td>0</td>\n",
       "      <td>Rs.4064000.0</td>\n",
       "      <td>Rs.6916196.48</td>\n",
       "      <td>18</td>\n",
       "      <td>28-Jun-00</td>\n",
       "      <td>3814664008</td>\n",
       "      <td>1</td>\n",
       "      <td>Aryavart Bank</td>\n",
       "      <td>Yes</td>\n",
       "      <td>0.0</td>\n",
       "    </tr>\n",
       "    <tr>\n",
       "      <th>4</th>\n",
       "      <td>105004</td>\n",
       "      <td>30-Jun-05</td>\n",
       "      <td>Existing</td>\n",
       "      <td>0</td>\n",
       "      <td>0</td>\n",
       "      <td>2005</td>\n",
       "      <td>Rs.23469600.0</td>\n",
       "      <td>GLASGOW AUTOMOTIVE, INC.</td>\n",
       "      <td>No</td>\n",
       "      <td>Rural</td>\n",
       "      <td>...</td>\n",
       "      <td>441310</td>\n",
       "      <td>Rs.31292800.0</td>\n",
       "      <td>Rs.31292800.0</td>\n",
       "      <td>219</td>\n",
       "      <td>02-May-05</td>\n",
       "      <td>8830244003</td>\n",
       "      <td>1</td>\n",
       "      <td>Paschim Banga Gramin Bank</td>\n",
       "      <td>No</td>\n",
       "      <td>0.0</td>\n",
       "    </tr>\n",
       "  </tbody>\n",
       "</table>\n",
       "<p>5 rows × 26 columns</p>\n",
       "</div>"
      ],
      "text/plain": [
       "       ID Date_Of_Disbursement  Business  Jobs_Reatained  Jobs_Created   \\\n",
       "0  105000            31-Mar-06  Existing              19              0   \n",
       "1  105001            31-Jan-95  Existing               0              0   \n",
       "2  105002            30-Sep-06  Existing               7              5   \n",
       "3  105003            31-Jul-00       New               2              0   \n",
       "4  105004            30-Jun-05  Existing               0              0   \n",
       "\n",
       "  Year_Of_Commitment  Guaranteed_Approved _Loan  \\\n",
       "0                2006              Rs.4064000.0   \n",
       "1                1995              Rs.1463040.0   \n",
       "2                2006               Rs.812800.0   \n",
       "3                2000              Rs.2032000.0   \n",
       "4                2005             Rs.23469600.0   \n",
       "\n",
       "                   Borrower_Name  Low_Documentation_Loan Demography  ...  \\\n",
       "0  Diversified Display Products o                     No      Urban  ...   \n",
       "1    FOOTE CONSULTING GROUP, INC.                    Yes  Undefined  ...   \n",
       "2  INTEGRATED COMERCIAL ENTERPRIS                     No      Urban  ...   \n",
       "3       FIRST IN RESCUE EQUIPMENT                     No      Urban  ...   \n",
       "4        GLASGOW AUTOMOTIVE, INC.                     No      Rural  ...   \n",
       "\n",
       "  Classification_Code  Loan_Approved_Gross Gross_Amount_Disbursed   Loan_Term  \\\n",
       "0               326199        Rs.8128000.0            Rs.9403852.16        57   \n",
       "1                    0        Rs.1625600.0             Rs.1625600.0        90   \n",
       "2               541611        Rs.1625600.0             Rs.3450336.0        81   \n",
       "3                    0        Rs.4064000.0            Rs.6916196.48        18   \n",
       "4               441310       Rs.31292800.0            Rs.31292800.0       219   \n",
       "\n",
       "  Commitment_Date  Primary_Loan_Digit  Code_Franchise  \\\n",
       "0       09-Mar-06          1702825000               0   \n",
       "1       14-Dec-94          7908833003               1   \n",
       "2       25-Aug-06          2361626001               1   \n",
       "3       28-Jun-00          3814664008               1   \n",
       "4       02-May-05          8830244003               1   \n",
       "\n",
       "                Name_Of_Bank Revolving_Credit_Line  Default  \n",
       "0            ICICI Bank Ltd.                   Yes      0.0  \n",
       "1     South Indian Bank Ltd.                    No      0.0  \n",
       "2          IDBI Bank Limited                   Yes      0.0  \n",
       "3              Aryavart Bank                   Yes      0.0  \n",
       "4  Paschim Banga Gramin Bank                    No      0.0  \n",
       "\n",
       "[5 rows x 26 columns]"
      ]
     },
     "execution_count": 297,
     "metadata": {},
     "output_type": "execute_result"
    }
   ],
   "source": [
    "testing_data.head()"
   ]
  },
  {
   "cell_type": "code",
   "execution_count": 298,
   "id": "3c097185",
   "metadata": {},
   "outputs": [],
   "source": [
    "result = testing_data[['ID','Default']]"
   ]
  },
  {
   "cell_type": "markdown",
   "id": "5712daf2",
   "metadata": {},
   "source": []
  },
  {
   "cell_type": "code",
   "execution_count": 299,
   "id": "587e9408",
   "metadata": {},
   "outputs": [],
   "source": [
    "result.to_csv('D:/Wilson Analytics -Mega Hackathon_Dec2022/Submission.csv',index = False)"
   ]
  },
  {
   "cell_type": "code",
   "execution_count": 300,
   "id": "113847bc",
   "metadata": {},
   "outputs": [],
   "source": [
    "# df4 = pd.read_csv('D:/Wilson Analytics -Mega Hackathon_Dec2022/Submission.csv')"
   ]
  },
  {
   "cell_type": "code",
   "execution_count": 301,
   "id": "11969500",
   "metadata": {},
   "outputs": [],
   "source": [
    "# df4.head()"
   ]
  },
  {
   "cell_type": "code",
   "execution_count": null,
   "id": "55e4aa3f",
   "metadata": {},
   "outputs": [],
   "source": []
  }
 ],
 "metadata": {
  "kernelspec": {
   "display_name": "Python 3 (ipykernel)",
   "language": "python",
   "name": "python3"
  },
  "language_info": {
   "codemirror_mode": {
    "name": "ipython",
    "version": 3
   },
   "file_extension": ".py",
   "mimetype": "text/x-python",
   "name": "python",
   "nbconvert_exporter": "python",
   "pygments_lexer": "ipython3",
   "version": "3.9.12"
  },
  "vscode": {
   "interpreter": {
    "hash": "ad664de81afbb953825574269eef9b202db8a9adb1110c6c35846703ae4c0c73"
   }
  }
 },
 "nbformat": 4,
 "nbformat_minor": 5
}
